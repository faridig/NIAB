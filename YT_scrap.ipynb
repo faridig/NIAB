{
 "cells": [
  {
   "cell_type": "code",
   "execution_count": 198,
   "metadata": {},
   "outputs": [],
   "source": [
    "from googleapiclient.discovery import build\n",
    "import pandas as pd\n"
   ]
  },
  {
   "cell_type": "code",
   "execution_count": 199,
   "metadata": {},
   "outputs": [],
   "source": [
    "api_key = ''\n",
    "channel_id = 'UC_i8X3p8oZNaik8X513Zn1Q'\n",
    "\n",
    "youtube = build('youtube', 'v3', developerKey=api_key)"
   ]
  },
  {
   "cell_type": "markdown",
   "metadata": {},
   "source": [
    "### Fonction pour récupérer les infos sur la chaîne YT"
   ]
  },
  {
   "cell_type": "code",
   "execution_count": 200,
   "metadata": {},
   "outputs": [],
   "source": [
    "def get_channel_stats(youtube, channel_id):\n",
    "     request = youtube.channels().list(\n",
    "        part=\"snippet,contentDetails,statistics\",\n",
    "        id=channel_id\n",
    "    )\n",
    "     response = request.execute()\n",
    "\n",
    "     data = dict(Channel_name = response['items'][0]['snippet']['title'],\n",
    "                 Subscribers = response['items'][0]['statistics']['subscriberCount'],\n",
    "                 Total_videos = response['items'][0]['statistics']['videoCount'],\n",
    "                 playlist_id = response['items'][0]['contentDetails']['relatedPlaylists']['uploads'])\n",
    "     \n",
    "     return data\n"
   ]
  },
  {
   "cell_type": "code",
   "execution_count": 201,
   "metadata": {},
   "outputs": [],
   "source": [
    "channel_statistics = get_channel_stats(youtube, channel_id)"
   ]
  },
  {
   "cell_type": "code",
   "execution_count": 202,
   "metadata": {},
   "outputs": [
    {
     "data": {
      "text/html": [
       "<div>\n",
       "<style scoped>\n",
       "    .dataframe tbody tr th:only-of-type {\n",
       "        vertical-align: middle;\n",
       "    }\n",
       "\n",
       "    .dataframe tbody tr th {\n",
       "        vertical-align: top;\n",
       "    }\n",
       "\n",
       "    .dataframe thead th {\n",
       "        text-align: right;\n",
       "    }\n",
       "</style>\n",
       "<table border=\"1\" class=\"dataframe\">\n",
       "  <thead>\n",
       "    <tr style=\"text-align: right;\">\n",
       "      <th></th>\n",
       "      <th>Channel_name</th>\n",
       "      <th>Subscribers</th>\n",
       "      <th>Total_videos</th>\n",
       "      <th>playlist_id</th>\n",
       "    </tr>\n",
       "  </thead>\n",
       "  <tbody>\n",
       "    <tr>\n",
       "      <th>channel_statistics</th>\n",
       "      <td>FilmsActu</td>\n",
       "      <td>4570000</td>\n",
       "      <td>11727</td>\n",
       "      <td>UU_i8X3p8oZNaik8X513Zn1Q</td>\n",
       "    </tr>\n",
       "  </tbody>\n",
       "</table>\n",
       "</div>"
      ],
      "text/plain": [
       "                   Channel_name Subscribers Total_videos  \\\n",
       "channel_statistics    FilmsActu     4570000        11727   \n",
       "\n",
       "                                 playlist_id  \n",
       "channel_statistics  UU_i8X3p8oZNaik8X513Zn1Q  "
      ]
     },
     "execution_count": 202,
     "metadata": {},
     "output_type": "execute_result"
    }
   ],
   "source": [
    "channel_data = pd.DataFrame([channel_statistics], index=['channel_statistics'])\n",
    "\n",
    "channel_data"
   ]
  },
  {
   "cell_type": "code",
   "execution_count": 203,
   "metadata": {},
   "outputs": [
    {
     "data": {
      "text/plain": [
       "'UU_i8X3p8oZNaik8X513Zn1Q'"
      ]
     },
     "execution_count": 203,
     "metadata": {},
     "output_type": "execute_result"
    }
   ],
   "source": [
    "playlist_id = channel_data.loc[channel_data['Channel_name']=='FilmsActu', 'playlist_id'].iloc[0]\n",
    "playlist_id"
   ]
  },
  {
   "cell_type": "code",
   "execution_count": 204,
   "metadata": {},
   "outputs": [],
   "source": [
    "def get_video_ids(youtube, playlist_id):\n",
    "    request = youtube.playlistItems().list(\n",
    "        part=\"contentDetails\",\n",
    "        playlistId= playlist_id,\n",
    "        maxResults = 50\n",
    "    \n",
    "    )\n",
    "    response = request.execute()\n",
    "\n",
    "    video_ids = []\n",
    "\n",
    "    for i in range(len(response['items'])):\n",
    "        video_ids.append(response['items'][i]['contentDetails']['videoId'])\n",
    "\n",
    "    next_page_token = response.get('nextPageToken')\n",
    "\n",
    "    while next_page_token is not None:\n",
    "        request = youtube.playlistItems().list(\n",
    "            part=\"contentDetails\",\n",
    "            playlistId= playlist_id,\n",
    "            maxResults = 50,\n",
    "            pageToken = next_page_token\n",
    "        )\n",
    "        response = request.execute()\n",
    "\n",
    "        for item in response['items']:\n",
    "            video_ids.append(item['contentDetails']['videoId'])\n",
    "\n",
    "        next_page_token = response.get('nextPageToken')\n",
    "\n",
    "    return video_ids\n",
    "\n",
    "\n",
    "    # more_pages = True\n",
    "\n",
    "    # while more_pages:\n",
    "    #     if next_page_token is None:\n",
    "    #         more_pages = False\n",
    "\n",
    "    #     else:\n",
    "    #         request = youtube.playlistItems().list(\n",
    "    #     part=\"contentDetails\",\n",
    "    #     playlistId= playlist_id,\n",
    "    #     maxResults = 50,\n",
    "    #     pageToken = next_page_token\n",
    "    #     )\n",
    "            \n",
    "    # response = request.execute()\n",
    "\n",
    "    # for i in range(len(response['items'])):\n",
    "    #     video_ids.append(response['items'][i]['contentDetails']['videoId']) \n",
    "\n",
    "    # next_page_token = response.get('nextPageToken')\n",
    "\n",
    "    # return len(video_ids)\n"
   ]
  },
  {
   "cell_type": "code",
   "execution_count": null,
   "metadata": {},
   "outputs": [],
   "source": [
    "video_ids = get_video_ids(youtube, playlist_id)\n",
    "video_ids"
   ]
  },
  {
   "cell_type": "markdown",
   "metadata": {},
   "source": [
    "### Fonction pour prendre les détails des vidéos"
   ]
  },
  {
   "cell_type": "code",
   "execution_count": 239,
   "metadata": {},
   "outputs": [],
   "source": [
    "def get_video_details(youtube, video_ids):\n",
    "    all_video_stats =[]\n",
    "\n",
    "    for i in range (0, len(video_ids), 50):\n",
    "\n",
    "        request = youtube.videos().list(\n",
    "            part=\"snippet,statistics\",\n",
    "            id=','.join(video_ids[i:i+50])\n",
    "        )\n",
    "        \n",
    "        response = request.execute()\n",
    "\n",
    "        for video in response['items']: \n",
    "            video_stats = dict(Title = video['snippet']['title'],\n",
    "                               Published_date = video['snippet']['publishedAt'],\n",
    "                               View_count = video['statistics']['viewCount'],\n",
    "                               Like_count = video['statistics']['likeCount'],\n",
    "                               Comment_count = video['statistics'].get('commentCount', 'N/A'),\n",
    "                               Tags = video['snippet'].get('tags', 'N/A'),\n",
    "                               )\n",
    "            all_video_stats.append(video_stats)\n",
    "\n",
    "    return all_video_stats\n",
    "    \n"
   ]
  },
  {
   "cell_type": "code",
   "execution_count": 241,
   "metadata": {},
   "outputs": [],
   "source": [
    "video_details = get_video_details(youtube, video_ids)\n",
    "\n",
    "df = pd.json_normalize(video_details)\n",
    "\n",
    "df.to_csv('video_details.csv', index=False)"
   ]
  }
 ],
 "metadata": {
  "kernelspec": {
   "display_name": "venv",
   "language": "python",
   "name": "python3"
  },
  "language_info": {
   "codemirror_mode": {
    "name": "ipython",
    "version": 3
   },
   "file_extension": ".py",
   "mimetype": "text/x-python",
   "name": "python",
   "nbconvert_exporter": "python",
   "pygments_lexer": "ipython3",
   "version": "3.10.12"
  }
 },
 "nbformat": 4,
 "nbformat_minor": 2
}
